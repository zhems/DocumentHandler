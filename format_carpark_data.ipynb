{
 "cells": [
  {
   "cell_type": "code",
   "execution_count": 33,
   "metadata": {},
   "outputs": [],
   "source": [
    "from openpyxl import Workbook\n",
    "from openpyxl import load_workbook \n",
    "import pandas as pd\n",
    "import os\n",
    "#\"Monthly Report_Carpark_F1 - July 23.xlsx\""
   ]
  },
  {
   "cell_type": "code",
   "execution_count": 36,
   "metadata": {},
   "outputs": [],
   "source": [
    "def format_excel(input_path,output_path):\n",
    "    workbook = load_workbook(filename=input_path)\n",
    "    sheet = workbook['Report A-Daily Counter Trans']\n",
    "    floor = sheet.max_row\n",
    "\n",
    "    Date = pd.Series([i[0].value for i in sheet[f'B10:B{floor}']],name='Date')\n",
    "    Time = pd.Series([i[0].value for i in sheet[f'F10:F{floor}']],name='Time')\n",
    "    Hourly_Entry = pd.Series([i[0].value for i in sheet[f'K10:K{floor}']],name='Hourly_Entry')\n",
    "    Authorized_Entry = pd.Series([i[0].value for i in sheet[f'M10:M{floor}']],name='Authorized_Entry')\n",
    "    Season_Entry = pd.Series([i[0].value for i in sheet[f'P10:P{floor}']],name='Season_Entry')\n",
    "    Total_Entry = pd.Series([i[0].value for i in sheet[f'R10:R{floor}']],name='Total_Entry')\n",
    "\n",
    "    Hourly_Exit = pd.Series([i[0].value for i in sheet[f'T10:T{floor}']],name='Hourly_Exit')\n",
    "    CompPass_Exit = pd.Series([i[0].value for i in sheet[f'X10:X{floor}']],name='CompPass_Exit')\n",
    "    Season_Exit = pd.Series([i[0].value for i in sheet[f'AA10:AA{floor}']],name='Season_Exit')\n",
    "    Authorized_Exit = pd.Series([i[0].value for i in sheet[f'AE10:AE{floor}']],name='Authorized_Exit')\n",
    "    Total_Exit = pd.Series([i[0].value for i in sheet[f'AG10:AG{floor}']],name='Total_Exit')\n",
    "\n",
    "    Season_Util_Rate = pd.Series([i[0].value for i in sheet[f'AJ10:AJ{floor}']],name='Season_Util_Rate')\n",
    "    Shortterm_Util_Rate = pd.Series([i[0].value for i in sheet[f'AL10:AL{floor}']],name='Shortterm_Util_Rate')\n",
    "    Hourly_Util_Rate = pd.Series([i[0].value for i in sheet[f'AN10:AN{floor}']],name='Hourly_Util_Rate')\n",
    "\n",
    "    df = pd.concat([Hourly_Entry,Authorized_Entry,Season_Entry,Total_Entry,\n",
    "            Hourly_Exit,CompPass_Exit,Season_Exit,Authorized_Exit,Total_Exit,\n",
    "            Season_Util_Rate,Shortterm_Util_Rate,Hourly_Util_Rate], axis=1)\n",
    "    \n",
    "    df.to_csv(output_path,index=False)"
   ]
  },
  {
   "cell_type": "code",
   "execution_count": 38,
   "metadata": {},
   "outputs": [],
   "source": [
    "for f in os.listdir('input'):\n",
    "    format_excel('input/'+f,f\"output/{f.split('-')[1].split('.')[0].strip()}.csv\")\n",
    "    os.replace('input/'+f,'processed_input/'+f)"
   ]
  },
  {
   "cell_type": "code",
   "execution_count": 29,
   "metadata": {},
   "outputs": [],
   "source": []
  },
  {
   "cell_type": "code",
   "execution_count": 32,
   "metadata": {},
   "outputs": [],
   "source": []
  },
  {
   "cell_type": "code",
   "execution_count": null,
   "metadata": {},
   "outputs": [],
   "source": [
    "df.to_csv()"
   ]
  }
 ],
 "metadata": {
  "kernelspec": {
   "display_name": "documents",
   "language": "python",
   "name": "python3"
  },
  "language_info": {
   "codemirror_mode": {
    "name": "ipython",
    "version": 3
   },
   "file_extension": ".py",
   "mimetype": "text/x-python",
   "name": "python",
   "nbconvert_exporter": "python",
   "pygments_lexer": "ipython3",
   "version": "3.11.5"
  },
  "orig_nbformat": 4
 },
 "nbformat": 4,
 "nbformat_minor": 2
}
